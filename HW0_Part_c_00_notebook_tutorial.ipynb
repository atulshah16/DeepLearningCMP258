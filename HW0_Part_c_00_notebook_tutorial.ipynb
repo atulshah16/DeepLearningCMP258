{
  "nbformat": 4,
  "nbformat_minor": 0,
  "metadata": {
    "kernelspec": {
      "name": "python3",
      "display_name": "Python 3"
    },
    "colab": {
      "name": "Atul_Shah_CMP258_00_notebook_tutorial.ipynb",
      "provenance": [],
      "collapsed_sections": []
    },
    "accelerator": "GPU"
  },
  "cells": [
    {
      "cell_type": "markdown",
      "metadata": {
        "id": "lfuq6QkFNWmP",
        "colab_type": "text"
      },
      "source": [
        "# 00 Jupyter Notebook Learnings\n"
      ]
    },
    {
      "cell_type": "markdown",
      "metadata": {
        "colab_type": "text",
        "id": "jgew21nErz_1"
      },
      "source": [
        "Below are some common tricks I learned after going through tutorial."
      ]
    },
    {
      "cell_type": "markdown",
      "metadata": {
        "id": "4sl7bnQENWma",
        "colab_type": "text"
      },
      "source": [
        "### Common Operations"
      ]
    },
    {
      "cell_type": "code",
      "metadata": {
        "id": "VPduL3L6NWme",
        "colab_type": "code",
        "outputId": "9c18f5b4-485f-44f4-cb58-2d40593e55ab",
        "colab": {
          "base_uri": "https://localhost:8080/",
          "height": 34
        }
      },
      "source": [
        "2*3"
      ],
      "execution_count": 0,
      "outputs": [
        {
          "output_type": "execute_result",
          "data": {
            "text/plain": [
              "6"
            ]
          },
          "metadata": {
            "tags": []
          },
          "execution_count": 1
        }
      ]
    },
    {
      "cell_type": "code",
      "metadata": {
        "id": "x-XD18Ke0rRW",
        "colab_type": "code",
        "outputId": "7aec2e79-b177-4be4-e138-959a7cd0fe8d",
        "colab": {
          "base_uri": "https://localhost:8080/",
          "height": 34
        }
      },
      "source": [
        "3+9"
      ],
      "execution_count": 0,
      "outputs": [
        {
          "output_type": "execute_result",
          "data": {
            "text/plain": [
              "12"
            ]
          },
          "metadata": {
            "tags": []
          },
          "execution_count": 2
        }
      ]
    },
    {
      "cell_type": "markdown",
      "metadata": {
        "id": "xWdJpdv7NWmx",
        "colab_type": "text"
      },
      "source": [
        "### Update Packages\n"
      ]
    },
    {
      "cell_type": "code",
      "metadata": {
        "id": "TRzfhYbZOCEX",
        "colab_type": "code",
        "outputId": "2e9711df-288c-4461-df64-2f1ba4d75b16",
        "colab": {
          "base_uri": "https://localhost:8080/",
          "height": 51
        }
      },
      "source": [
        "  !curl -s https://course.fast.ai/setup/colab | bash\n"
      ],
      "execution_count": 1,
      "outputs": [
        {
          "output_type": "stream",
          "text": [
            "Updating fastai...\n",
            "Done.\n"
          ],
          "name": "stdout"
        }
      ]
    },
    {
      "cell_type": "markdown",
      "metadata": {
        "hide_input": false,
        "id": "uvhm3xgjNWoM",
        "colab_type": "text"
      },
      "source": [
        "### Markdown formatting"
      ]
    },
    {
      "cell_type": "markdown",
      "metadata": {
        "id": "m54Hb24-NWoO",
        "colab_type": "text"
      },
      "source": [
        "#### Italics, Bold, Strikethrough, Inline, Blockquotes and Links"
      ]
    },
    {
      "cell_type": "markdown",
      "metadata": {
        "id": "G641nNpj8FA5",
        "colab_type": "text"
      },
      "source": [
        "\n",
        "\n",
        "```\n",
        "This is formatted as code\n",
        "\n",
        "\n",
        "```\n",
        "\n",
        "*This is formatted in italics*\n",
        "\n",
        "**This is in Bold**\n",
        "> Blockquote\n",
        "\n",
        "[Google Colabs Link](https://colab.research.google.com/)\n",
        "\n",
        "\n",
        "\n"
      ]
    },
    {
      "cell_type": "markdown",
      "metadata": {
        "id": "u6Y6xGQiNWoR",
        "colab_type": "text"
      },
      "source": [
        "#### Headings"
      ]
    },
    {
      "cell_type": "markdown",
      "metadata": {
        "id": "7y3PFlv-9WB4",
        "colab_type": "text"
      },
      "source": [
        "#Heading1\n",
        "##Heading2\n",
        "###Heading3\n"
      ]
    },
    {
      "cell_type": "markdown",
      "metadata": {
        "id": "CUfIrgz3NWoY",
        "colab_type": "text"
      },
      "source": [
        "#### Lists"
      ]
    },
    {
      "cell_type": "markdown",
      "metadata": {
        "id": "Cm8mMYMgNWoc",
        "colab_type": "text"
      },
      "source": [
        "Ordered list:\n",
        "\n",
        "1. Step 1\n",
        "    2. Step 1B\n",
        "3. Step 3"
      ]
    },
    {
      "cell_type": "markdown",
      "metadata": {
        "id": "-jHPfvoTNWoe",
        "colab_type": "text"
      },
      "source": [
        "Unordered list\n",
        "\n",
        "* Machine Learning\n",
        "* Artificial Intelligence\n",
        "* Deep Learning\n"
      ]
    },
    {
      "cell_type": "markdown",
      "metadata": {
        "id": "nqwUOaXnNWog",
        "colab_type": "text"
      },
      "source": [
        "\n",
        "\n",
        "- [x] How to learn Machine Learning\n",
        "    - [x] Practice\n",
        "    - [x] Practice\n",
        "    - [x] Practice\n"
      ]
    },
    {
      "cell_type": "markdown",
      "metadata": {
        "id": "3jipcfalNWoj",
        "colab_type": "text"
      },
      "source": [
        "### Coding\n"
      ]
    },
    {
      "cell_type": "code",
      "metadata": {
        "id": "wNMOerMXNWon",
        "colab_type": "code",
        "colab": {}
      },
      "source": [
        "# Import necessary libraries\n",
        "import numpy as np"
      ],
      "execution_count": 0,
      "outputs": []
    },
    {
      "cell_type": "code",
      "metadata": {
        "id": "R_Oo99Y2NWot",
        "colab_type": "code",
        "colab": {
          "base_uri": "https://localhost:8080/",
          "height": 68
        },
        "outputId": "2295932a-2363-433f-a3b0-353fcece9413"
      },
      "source": [
        "\n",
        "a = np.array([1,3,5,7,9,11])\n",
        "print(a)\n",
        "\n",
        "a = np.arange(40, 9,-1)  \n",
        "print(a)"
      ],
      "execution_count": 8,
      "outputs": [
        {
          "output_type": "stream",
          "text": [
            "[ 1  3  5  7  9 11]\n",
            "[40 39 38 37 36 35 34 33 32 31 30 29 28 27 26 25 24 23 22 21 20 19 18 17\n",
            " 16 15 14 13 12 11 10]\n"
          ],
          "name": "stdout"
        }
      ]
    },
    {
      "cell_type": "markdown",
      "metadata": {
        "id": "_umHPoAuNWpO",
        "colab_type": "text"
      },
      "source": [
        "##Keyboard Shortcuts."
      ]
    },
    {
      "cell_type": "markdown",
      "metadata": {
        "id": "fJdptm-xNWpQ",
        "colab_type": "text"
      },
      "source": [
        "<kbd>m</kbd>: Convert cell to Markdown"
      ]
    },
    {
      "cell_type": "markdown",
      "metadata": {
        "id": "hYTZMsmONWpS",
        "colab_type": "text"
      },
      "source": [
        "<kbd>y</kbd>: Convert cell to Code"
      ]
    },
    {
      "cell_type": "markdown",
      "metadata": {
        "id": "TFvjDqB9NWpT",
        "colab_type": "text"
      },
      "source": [
        "<kbd>D</kbd>+<kbd>D</kbd>: Delete the cell(if it's not the only cell) or delete the content of the cell and reset cell to Code(if only one cell left)"
      ]
    },
    {
      "cell_type": "markdown",
      "metadata": {
        "id": "9Bz-thRoNWpV",
        "colab_type": "text"
      },
      "source": [
        "<kbd>o</kbd>: Toggle between hide or show output"
      ]
    },
    {
      "cell_type": "markdown",
      "metadata": {
        "id": "pcoLd1ewNWpW",
        "colab_type": "text"
      },
      "source": [
        "<kbd>Shift</kbd>+<kbd>Arrow up/Arrow down</kbd>: Selects multiple cells. Once you have selected them you can operate on them like a batch (run, copy, paste etc)."
      ]
    },
    {
      "cell_type": "markdown",
      "metadata": {
        "id": "k5t6sJ3-NWpY",
        "colab_type": "text"
      },
      "source": [
        "<kbd>Shift</kbd>+<kbd>M</kbd>: Merge selected cells."
      ]
    },
    {
      "cell_type": "markdown",
      "metadata": {
        "id": "N3Vg8dU7NWpZ",
        "colab_type": "text"
      },
      "source": [
        "<kbd>Shift</kbd>+<kbd>Tab</kbd>: [press these two buttons at the same time, once] Tells you which parameters to pass on a function\n",
        "\n",
        "<kbd>Shift</kbd>+<kbd>Tab</kbd>: [press these two buttons at the same time, three times] Gives additional information on the method"
      ]
    }
  ]
}