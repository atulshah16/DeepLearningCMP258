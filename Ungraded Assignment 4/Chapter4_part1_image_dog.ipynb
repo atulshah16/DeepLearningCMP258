{
  "nbformat": 4,
  "nbformat_minor": 0,
  "metadata": {
    "kernelspec": {
      "display_name": "Python 3",
      "language": "python",
      "name": "python3"
    },
    "language_info": {
      "codemirror_mode": {
        "name": "ipython",
        "version": 3
      },
      "file_extension": ".py",
      "mimetype": "text/x-python",
      "name": "python",
      "nbconvert_exporter": "python",
      "pygments_lexer": "ipython3",
      "version": "3.7.6"
    },
    "colab": {
      "name": "1_image_dog.ipynb",
      "provenance": []
    }
  },
  "cells": [
    {
      "cell_type": "code",
      "metadata": {
        "id": "UxOIl7Gg9pC5",
        "colab_type": "code",
        "colab": {}
      },
      "source": [
        "import numpy as np\n",
        "import torch\n",
        "torch.set_printoptions(edgeitems=2, threshold=50)"
      ],
      "execution_count": 0,
      "outputs": []
    },
    {
      "cell_type": "code",
      "metadata": {
        "id": "pEmxME0q9pC8",
        "colab_type": "code",
        "colab": {},
        "outputId": "0ec20c75-2da8-4a60-baf9-e73524dfc1d6"
      },
      "source": [
        "import imageio\n",
        "\n",
        "img_arr = imageio.imread('../data/p1ch4/image-dog/bobby.jpg')\n",
        "img_arr.shape"
      ],
      "execution_count": 0,
      "outputs": [
        {
          "output_type": "execute_result",
          "data": {
            "text/plain": [
              "(720, 1280, 3)"
            ]
          },
          "metadata": {
            "tags": []
          },
          "execution_count": 2
        }
      ]
    },
    {
      "cell_type": "code",
      "metadata": {
        "id": "8LVzwfds9pDA",
        "colab_type": "code",
        "colab": {}
      },
      "source": [
        "img = torch.from_numpy(img_arr)\n",
        "out = img.permute(2, 0, 1)"
      ],
      "execution_count": 0,
      "outputs": []
    },
    {
      "cell_type": "code",
      "metadata": {
        "id": "UXT8XpN29pDC",
        "colab_type": "code",
        "colab": {}
      },
      "source": [
        "batch_size = 3\n",
        "batch = torch.zeros(batch_size, 3, 256, 256, dtype=torch.uint8)"
      ],
      "execution_count": 0,
      "outputs": []
    },
    {
      "cell_type": "code",
      "metadata": {
        "scrolled": true,
        "id": "v0lJepKH9pDE",
        "colab_type": "code",
        "colab": {}
      },
      "source": [
        "import os\n",
        "\n",
        "data_dir = '../data/p1ch4/image-cats/'\n",
        "filenames = [name for name in os.listdir(data_dir) if os.path.splitext(name)[-1] == '.png']\n",
        "for i, filename in enumerate(filenames):\n",
        "    img_arr = imageio.imread(os.path.join(data_dir, filename))\n",
        "    img_t = torch.from_numpy(img_arr)\n",
        "    img_t = img_t.permute(2, 0, 1)\n",
        "    img_t = img_t[:3] # <1>\n",
        "    batch[i] = img_t"
      ],
      "execution_count": 0,
      "outputs": []
    },
    {
      "cell_type": "code",
      "metadata": {
        "id": "w11S2SBA9pDH",
        "colab_type": "code",
        "colab": {}
      },
      "source": [
        "batch = batch.float()\n",
        "batch /= 255.0"
      ],
      "execution_count": 0,
      "outputs": []
    },
    {
      "cell_type": "code",
      "metadata": {
        "id": "C09zDyLy9pDJ",
        "colab_type": "code",
        "colab": {}
      },
      "source": [
        "n_channels = batch.shape[1]\n",
        "for c in range(n_channels):\n",
        "    mean = torch.mean(batch[:, c])\n",
        "    std = torch.std(batch[:, c])\n",
        "    batch[:, c] = (batch[:, c] - mean) / std"
      ],
      "execution_count": 0,
      "outputs": []
    }
  ]
}