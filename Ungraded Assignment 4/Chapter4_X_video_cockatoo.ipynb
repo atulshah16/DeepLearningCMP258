{
  "nbformat": 4,
  "nbformat_minor": 0,
  "metadata": {
    "kernelspec": {
      "display_name": "Python 3",
      "language": "python",
      "name": "python3"
    },
    "language_info": {
      "codemirror_mode": {
        "name": "ipython",
        "version": 3
      },
      "file_extension": ".py",
      "mimetype": "text/x-python",
      "name": "python",
      "nbconvert_exporter": "python",
      "pygments_lexer": "ipython3",
      "version": "3.6.6"
    },
    "colab": {
      "name": "X_video_cockatoo.ipynb",
      "provenance": []
    }
  },
  "cells": [
    {
      "cell_type": "markdown",
      "metadata": {
        "id": "ASryrDiv_OFY",
        "colab_type": "text"
      },
      "source": [
        "Video\n",
        "===="
      ]
    },
    {
      "cell_type": "code",
      "metadata": {
        "id": "kKB9oO05_OFa",
        "colab_type": "code",
        "colab": {}
      },
      "source": [
        "import numpy as np\n",
        "import torch\n",
        "torch.set_printoptions(edgeitems=2, threshold=50)"
      ],
      "execution_count": 0,
      "outputs": []
    },
    {
      "cell_type": "markdown",
      "metadata": {
        "id": "mWyMm0AB_OFi",
        "colab_type": "text"
      },
      "source": [
        "When it comes to the shape of tensors, video data can be seen as equivalent to volumetric data, with `depth` replaced by the `time` dimension. The result is again a 5D tensor with shape `N x C x T x H x W`.\n",
        "\n",
        "There are several formats for video, especially geared towards compression by exploiting redundancies in space and time. Luckily for us, `imageio` reads video data as well. Suppose we'd like to retain 100 consecutive frames in our 512 x 512 RBG video for classifying an action using a convolutional neural network. We first create a reader instance for the video, that will allow us to get information about the video and iterate over the frames in time.\n",
        "Let's see what the meta data for the video looks like:"
      ]
    },
    {
      "cell_type": "code",
      "metadata": {
        "id": "tXPkMV6d_OFk",
        "colab_type": "code",
        "colab": {},
        "outputId": "5d924058-1280-4e15-ae61-ad0a9036e83f"
      },
      "source": [
        "import imageio\n",
        "\n",
        "reader = imageio.get_reader('../data/p1ch4/video-cockatoo/cockatoo.mp4')\n",
        "meta = reader.get_meta_data()\n",
        "meta"
      ],
      "execution_count": 0,
      "outputs": [
        {
          "output_type": "execute_result",
          "data": {
            "text/plain": [
              "{'plugin': 'ffmpeg',\n",
              " 'nframes': 280,\n",
              " 'ffmpeg_version': '4.1 built with gcc 8.2.1 (GCC) 20181017',\n",
              " 'fps': 20.0,\n",
              " 'source_size': (1280, 720),\n",
              " 'size': (1280, 720),\n",
              " 'duration': 14.0}"
            ]
          },
          "metadata": {
            "tags": []
          },
          "execution_count": 2
        }
      ]
    },
    {
      "cell_type": "markdown",
      "metadata": {
        "id": "geQQvq3n_OFr",
        "colab_type": "text"
      },
      "source": [
        "We now have all the information to size the tensor that will store the video frames:"
      ]
    },
    {
      "cell_type": "code",
      "metadata": {
        "id": "WKXsAV-b_OFs",
        "colab_type": "code",
        "colab": {},
        "outputId": "85d74bea-43bf-433a-ae26-1d09304d269e"
      },
      "source": [
        "n_channels = 3\n",
        "n_frames = meta['nframes']\n",
        "video = torch.empty(n_channels, n_frames, *meta['size'])\n",
        "\n",
        "video.shape"
      ],
      "execution_count": 0,
      "outputs": [
        {
          "output_type": "execute_result",
          "data": {
            "text/plain": [
              "torch.Size([3, 280, 1280, 720])"
            ]
          },
          "metadata": {
            "tags": []
          },
          "execution_count": 3
        }
      ]
    },
    {
      "cell_type": "markdown",
      "metadata": {
        "id": "wR1tAfS0_OFx",
        "colab_type": "text"
      },
      "source": [
        "Now we just iterate over the reader and set the values for all three channels into in the proper `i`-th time slice.\n",
        "This might take a few seconds to finish!"
      ]
    },
    {
      "cell_type": "code",
      "metadata": {
        "id": "wjT7mNZ2_OFz",
        "colab_type": "code",
        "colab": {}
      },
      "source": [
        "for i, frame_arr in enumerate(reader):\n",
        "    frame = torch.from_numpy(frame_arr).float()\n",
        "    video[:, i] = torch.transpose(frame, 0, 2)"
      ],
      "execution_count": 0,
      "outputs": []
    },
    {
      "cell_type": "markdown",
      "metadata": {
        "id": "G8DhHwyy_OF5",
        "colab_type": "text"
      },
      "source": [
        "In the above, we iterate over individual frames and set each frame in the `C x T x H x W` video tensor, after transposing the channel. We can then obtain a batch by stacking multiple 4D tensors or pre-allocating a 5D tensor with a known batch size and filling it iteratively, clip by clip, assuming clips are trimmed to a fixed number of frames.\n",
        "\n",
        "Equating video data to volumetric data is not the only way to represent video for training purposes. This is a valid strategy if we deal with video bursts of fixed length. An alternative strategy is to resort to network architectures capable of processing long sequences and exploiting short and long-term relationships in time, just like for text or audio.\n",
        "// We'll see this kind of architectures when we take on recurrent networks.\n",
        "\n",
        "This next approach accounts for time along the batch dimension. Hence, we'll build our dataset as a 4D tensor, stacking frame by frame in the batch:\n"
      ]
    },
    {
      "cell_type": "code",
      "metadata": {
        "id": "1apLcJbS_OF6",
        "colab_type": "code",
        "colab": {},
        "outputId": "f1980b0a-a910-4de0-8cec-465675744ad1"
      },
      "source": [
        "time_video = torch.empty(n_frames, n_channels, *meta['size'])\n",
        "\n",
        "for i, frame in enumerate(reader):\n",
        "    frame = torch.from_numpy(frame).float()\n",
        "    time_video[i] = torch.transpose(frame, 0, 2)\n",
        "\n",
        "time_video.shape"
      ],
      "execution_count": 0,
      "outputs": [
        {
          "output_type": "execute_result",
          "data": {
            "text/plain": [
              "torch.Size([280, 3, 1280, 720])"
            ]
          },
          "metadata": {
            "tags": []
          },
          "execution_count": 5
        }
      ]
    }
  ]
}